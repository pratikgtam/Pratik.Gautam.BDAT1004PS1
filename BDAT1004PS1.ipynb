{
 "cells": [
  {
   "cell_type": "markdown",
   "id": "ebf9ae99-8791-406e-819a-dd0e75953a59",
   "metadata": {},
   "source": [
    "What data type is each of the following?\n",
    "\n",
    "1. `5.0`: `double`\n",
    "2. `5 > 1`: `bool`\n",
    "3. `'5'`: `char`\n",
    "4. `5 * 2`: `int`\n",
    "5. `'5' * 2`: Error (cannot multiply a `char` by an `int`)\n",
    "6. `'5' + '2'`: `string`\n",
    "7. `5 / 2`: `int`\n",
    "8. `5 % 2`: `int`\n",
    "9. `{5, 2, 1}`: `int[]` (array of integers)\n",
    "10. `5 == 3`: `bool`\n",
    "11. `Pi (the number)`: `double` (`Math.PI`)"
   ]
  },
  {
   "cell_type": "code",
   "execution_count": null,
   "id": "3de09ed7-69f6-4548-a027-8a22c0900133",
   "metadata": {},
   "outputs": [],
   "source": []
  }
 ],
 "metadata": {
  "kernelspec": {
   "display_name": "Python 3 (ipykernel)",
   "language": "python",
   "name": "python3"
  },
  "language_info": {
   "codemirror_mode": {
    "name": "ipython",
    "version": 3
   },
   "file_extension": ".py",
   "mimetype": "text/x-python",
   "name": "python",
   "nbconvert_exporter": "python",
   "pygments_lexer": "ipython3",
   "version": "3.12.5"
  }
 },
 "nbformat": 4,
 "nbformat_minor": 5
}
